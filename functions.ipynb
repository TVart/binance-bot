{
 "cells": [
  {
   "cell_type": "code",
   "execution_count": 8,
   "id": "d677f0b1",
   "metadata": {},
   "outputs": [],
   "source": [
    "def get_minute_data(symbol, interval='1m', loopback='30'):\n",
    "    df = pd.DataFrame(client.get_historical_klines(symbol, interval, loopback+' min ago UTC+2'))\n",
    "    df = df.iloc[:,:6]\n",
    "    df.columns = ['Time', 'Open', 'High', 'Low', 'Close','Volume']\n",
    "    df = df.set_index('Time')\n",
    "    df.index = pd.to_datetime(df.index, unit='ms')\n",
    "    return df.astype(float)"
   ]
  },
  {
   "cell_type": "code",
   "execution_count": 6,
   "id": "de9df7e0",
   "metadata": {},
   "outputs": [],
   "source": [
    "def get_cumulative_return(position):\n",
    "    return (position.pct_change() + 1).cumprod() - 1"
   ]
  },
  {
   "cell_type": "code",
   "execution_count": 1,
   "id": "f11218c4",
   "metadata": {},
   "outputs": [],
   "source": [
    "def market_order(symbol, side, quantity):\n",
    "    return client.create_order(\n",
    "                symbol=symbol, \n",
    "                side=side, \n",
    "                type='MARKET', \n",
    "                quantity=quantity\n",
    "            )"
   ]
  },
  {
   "cell_type": "code",
   "execution_count": 5,
   "id": "3797ab86",
   "metadata": {},
   "outputs": [],
   "source": [
    "def create_frame_for_current_price(msg):\n",
    "    df = pd.DataFrame([msg])\n",
    "    df = df.loc[:,['s','E', 'p']]\n",
    "    df.columns = ['Symbol', 'Time','Price']\n",
    "    df.Price = df.Price.astype(float)\n",
    "    df.Time = pd.to_datetime(df.Time, unit='ms')\n",
    "    return df"
   ]
  },
  {
   "cell_type": "code",
   "execution_count": null,
   "id": "588b44fd",
   "metadata": {},
   "outputs": [],
   "source": []
  }
 ],
 "metadata": {
  "kernelspec": {
   "display_name": "Python 3 (ipykernel)",
   "language": "python",
   "name": "python3"
  },
  "language_info": {
   "codemirror_mode": {
    "name": "ipython",
    "version": 3
   },
   "file_extension": ".py",
   "mimetype": "text/x-python",
   "name": "python",
   "nbconvert_exporter": "python",
   "pygments_lexer": "ipython3",
   "version": "3.8.12"
  }
 },
 "nbformat": 4,
 "nbformat_minor": 5
}
