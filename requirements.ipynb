{
 "cells": [
  {
   "cell_type": "code",
   "execution_count": 1,
   "id": "7a97ec98",
   "metadata": {},
   "outputs": [
    {
     "name": "stdout",
     "output_type": "stream",
     "text": [
      "Requirement already satisfied: python-binance in c:\\users\\philo\\anaconda3\\envs\\crypto-bot\\lib\\site-packages (1.0.15)\n",
      "Requirement already satisfied: six in c:\\users\\philo\\anaconda3\\envs\\crypto-bot\\lib\\site-packages (from python-binance) (1.16.0)\n",
      "Requirement already satisfied: websockets==9.1 in c:\\users\\philo\\anaconda3\\envs\\crypto-bot\\lib\\site-packages (from python-binance) (9.1)\n",
      "Requirement already satisfied: dateparser in c:\\users\\philo\\anaconda3\\envs\\crypto-bot\\lib\\site-packages (from python-binance) (1.1.0)\n",
      "Requirement already satisfied: aiohttp in c:\\users\\philo\\anaconda3\\envs\\crypto-bot\\lib\\site-packages (from python-binance) (3.7.4.post0)\n",
      "Requirement already satisfied: requests in c:\\users\\philo\\anaconda3\\envs\\crypto-bot\\lib\\site-packages (from python-binance) (2.26.0)\n",
      "Requirement already satisfied: ujson in c:\\users\\philo\\anaconda3\\envs\\crypto-bot\\lib\\site-packages (from python-binance) (4.2.0)\n",
      "Requirement already satisfied: chardet<5.0,>=2.0 in c:\\users\\philo\\anaconda3\\envs\\crypto-bot\\lib\\site-packages (from aiohttp->python-binance) (4.0.0)\n",
      "Requirement already satisfied: yarl<2.0,>=1.0 in c:\\users\\philo\\anaconda3\\envs\\crypto-bot\\lib\\site-packages (from aiohttp->python-binance) (1.7.0)\n",
      "Requirement already satisfied: typing-extensions>=3.6.5 in c:\\users\\philo\\anaconda3\\envs\\crypto-bot\\lib\\site-packages (from aiohttp->python-binance) (3.10.0.2)\n",
      "Requirement already satisfied: multidict<7.0,>=4.5 in c:\\users\\philo\\anaconda3\\envs\\crypto-bot\\lib\\site-packages (from aiohttp->python-binance) (5.2.0)\n",
      "Requirement already satisfied: async-timeout<4.0,>=3.0 in c:\\users\\philo\\anaconda3\\envs\\crypto-bot\\lib\\site-packages (from aiohttp->python-binance) (3.0.1)\n",
      "Requirement already satisfied: attrs>=17.3.0 in c:\\users\\philo\\anaconda3\\envs\\crypto-bot\\lib\\site-packages (from aiohttp->python-binance) (21.2.0)\n",
      "Requirement already satisfied: idna>=2.0 in c:\\users\\philo\\anaconda3\\envs\\crypto-bot\\lib\\site-packages (from yarl<2.0,>=1.0->aiohttp->python-binance) (3.3)\n",
      "Requirement already satisfied: python-dateutil in c:\\users\\philo\\anaconda3\\envs\\crypto-bot\\lib\\site-packages (from dateparser->python-binance) (2.8.2)\n",
      "Requirement already satisfied: tzlocal in c:\\users\\philo\\anaconda3\\envs\\crypto-bot\\lib\\site-packages (from dateparser->python-binance) (4.0.1)\n",
      "Requirement already satisfied: pytz in c:\\users\\philo\\anaconda3\\envs\\crypto-bot\\lib\\site-packages (from dateparser->python-binance) (2021.3)\n",
      "Requirement already satisfied: regex!=2019.02.19,!=2021.8.27 in c:\\users\\philo\\anaconda3\\envs\\crypto-bot\\lib\\site-packages (from dateparser->python-binance) (2021.10.23)\n",
      "Requirement already satisfied: charset-normalizer~=2.0.0 in c:\\users\\philo\\anaconda3\\envs\\crypto-bot\\lib\\site-packages (from requests->python-binance) (2.0.7)\n",
      "Requirement already satisfied: certifi>=2017.4.17 in c:\\users\\philo\\anaconda3\\envs\\crypto-bot\\lib\\site-packages (from requests->python-binance) (2021.10.8)\n",
      "Requirement already satisfied: urllib3<1.27,>=1.21.1 in c:\\users\\philo\\anaconda3\\envs\\crypto-bot\\lib\\site-packages (from requests->python-binance) (1.26.7)\n",
      "Requirement already satisfied: backports.zoneinfo in c:\\users\\philo\\anaconda3\\envs\\crypto-bot\\lib\\site-packages (from tzlocal->dateparser->python-binance) (0.2.1)\n",
      "Requirement already satisfied: pytz-deprecation-shim in c:\\users\\philo\\anaconda3\\envs\\crypto-bot\\lib\\site-packages (from tzlocal->dateparser->python-binance) (0.1.0.post0)\n",
      "Requirement already satisfied: tzdata in c:\\users\\philo\\anaconda3\\envs\\crypto-bot\\lib\\site-packages (from tzlocal->dateparser->python-binance) (2021.4)\n"
     ]
    }
   ],
   "source": [
    "!pip install python-binance"
   ]
  },
  {
   "cell_type": "code",
   "execution_count": 2,
   "id": "8d6ab386",
   "metadata": {},
   "outputs": [
    {
     "name": "stdout",
     "output_type": "stream",
     "text": [
      "Requirement already satisfied: pandas in c:\\users\\philo\\anaconda3\\envs\\crypto-bot\\lib\\site-packages (1.3.4)\n",
      "Requirement already satisfied: pytz>=2017.3 in c:\\users\\philo\\anaconda3\\envs\\crypto-bot\\lib\\site-packages (from pandas) (2021.3)\n",
      "Requirement already satisfied: python-dateutil>=2.7.3 in c:\\users\\philo\\anaconda3\\envs\\crypto-bot\\lib\\site-packages (from pandas) (2.8.2)\n",
      "Requirement already satisfied: numpy>=1.17.3 in c:\\users\\philo\\anaconda3\\envs\\crypto-bot\\lib\\site-packages (from pandas) (1.21.3)\n",
      "Requirement already satisfied: six>=1.5 in c:\\users\\philo\\anaconda3\\envs\\crypto-bot\\lib\\site-packages (from python-dateutil>=2.7.3->pandas) (1.16.0)\n"
     ]
    }
   ],
   "source": [
    "!pip install pandas"
   ]
  },
  {
   "cell_type": "code",
   "execution_count": 3,
   "id": "c25cccfb",
   "metadata": {},
   "outputs": [
    {
     "name": "stdout",
     "output_type": "stream",
     "text": [
      "Requirement already satisfied: matplotlib in c:\\users\\philo\\anaconda3\\envs\\crypto-bot\\lib\\site-packages (3.4.3)\n",
      "Requirement already satisfied: kiwisolver>=1.0.1 in c:\\users\\philo\\anaconda3\\envs\\crypto-bot\\lib\\site-packages (from matplotlib) (1.3.2)\n",
      "Requirement already satisfied: python-dateutil>=2.7 in c:\\users\\philo\\anaconda3\\envs\\crypto-bot\\lib\\site-packages (from matplotlib) (2.8.2)\n",
      "Requirement already satisfied: cycler>=0.10 in c:\\users\\philo\\anaconda3\\envs\\crypto-bot\\lib\\site-packages (from matplotlib) (0.10.0)\n",
      "Requirement already satisfied: pyparsing>=2.2.1 in c:\\users\\philo\\anaconda3\\envs\\crypto-bot\\lib\\site-packages (from matplotlib) (2.4.7)\n",
      "Requirement already satisfied: numpy>=1.16 in c:\\users\\philo\\anaconda3\\envs\\crypto-bot\\lib\\site-packages (from matplotlib) (1.21.3)\n",
      "Requirement already satisfied: pillow>=6.2.0 in c:\\users\\philo\\anaconda3\\envs\\crypto-bot\\lib\\site-packages (from matplotlib) (8.4.0)\n",
      "Requirement already satisfied: six in c:\\users\\philo\\anaconda3\\envs\\crypto-bot\\lib\\site-packages (from cycler>=0.10->matplotlib) (1.16.0)\n"
     ]
    }
   ],
   "source": [
    "!pip install matplotlib"
   ]
  },
  {
   "cell_type": "code",
   "execution_count": 5,
   "id": "d784609f",
   "metadata": {},
   "outputs": [
    {
     "name": "stdout",
     "output_type": "stream",
     "text": [
      "Requirement already satisfied: sqlalchemy in c:\\users\\philo\\anaconda3\\envs\\crypto-bot\\lib\\site-packages (1.4.26)\n",
      "Requirement already satisfied: greenlet!=0.4.17 in c:\\users\\philo\\anaconda3\\envs\\crypto-bot\\lib\\site-packages (from sqlalchemy) (1.1.2)\n"
     ]
    }
   ],
   "source": [
    "!pip install sqlalchemy"
   ]
  },
  {
   "cell_type": "code",
   "execution_count": null,
   "id": "30d0f4cd",
   "metadata": {},
   "outputs": [],
   "source": []
  }
 ],
 "metadata": {
  "kernelspec": {
   "display_name": "Python 3 (ipykernel)",
   "language": "python",
   "name": "python3"
  },
  "language_info": {
   "codemirror_mode": {
    "name": "ipython",
    "version": 3
   },
   "file_extension": ".py",
   "mimetype": "text/x-python",
   "name": "python",
   "nbconvert_exporter": "python",
   "pygments_lexer": "ipython3",
   "version": "3.8.12"
  }
 },
 "nbformat": 4,
 "nbformat_minor": 5
}
