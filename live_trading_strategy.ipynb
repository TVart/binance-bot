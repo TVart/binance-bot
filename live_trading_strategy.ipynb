{
 "cells": [
  {
   "cell_type": "code",
   "execution_count": 2,
   "id": "20597a7b",
   "metadata": {},
   "outputs": [],
   "source": [
    "import pandas as pd\n",
    "from binance.client import Client\n",
    "from binance import BinanceSocketManager"
   ]
  },
  {
   "cell_type": "code",
   "execution_count": 32,
   "id": "90d7926f",
   "metadata": {},
   "outputs": [],
   "source": [
    "run credentials.ipynb"
   ]
  },
  {
   "cell_type": "code",
   "execution_count": 34,
   "id": "f43bdf39",
   "metadata": {},
   "outputs": [],
   "source": [
    "client = Client(key, secret)"
   ]
  },
  {
   "cell_type": "code",
   "execution_count": 68,
   "id": "3dc25fc8",
   "metadata": {},
   "outputs": [],
   "source": [
    "run functions.ipynb"
   ]
  },
  {
   "cell_type": "code",
   "execution_count": 36,
   "id": "1b68e7c9",
   "metadata": {},
   "outputs": [],
   "source": [
    "run db_helper.ipynb"
   ]
  },
  {
   "cell_type": "code",
   "execution_count": 37,
   "id": "95eae47f",
   "metadata": {},
   "outputs": [],
   "source": [
    "engine = create_db('SOLBUSD')"
   ]
  },
  {
   "cell_type": "code",
   "execution_count": 38,
   "id": "aadc2721",
   "metadata": {},
   "outputs": [],
   "source": [
    "df = pd.read_sql('SOLBUSD', engine)"
   ]
  },
  {
   "cell_type": "code",
   "execution_count": 39,
   "id": "885586f0",
   "metadata": {},
   "outputs": [
    {
     "data": {
      "text/plain": [
       "<AxesSubplot:>"
      ]
     },
     "execution_count": 39,
     "metadata": {},
     "output_type": "execute_result"
    },
    {
     "data": {
      "image/png": "[encoded data removed]",
      "text/plain": [
       "<Figure size 432x288 with 1 Axes>"
      ]
     },
     "metadata": {
      "needs_background": "light"
     },
     "output_type": "display_data"
    }
   ],
   "source": [
    "df.Price.plot()"
   ]
  },
  {
   "cell_type": "code",
   "execution_count": 20,
   "id": "65aa5b7b",
   "metadata": {},
   "outputs": [],
   "source": [
    "#Trendfollowing\n",
    "#If the crypto was rising by x % -> Buy\n",
    "#Exit when profit is > 0.15 % or loss is crossing - 0.15% "
   ]
  },
  {
   "cell_type": "code",
   "execution_count": null,
   "id": "d8951284",
   "metadata": {},
   "outputs": [],
   "source": [
    "def open_position(symbol, entry, loopback, opts):\n",
    "    while True:\n",
    "        df = pd.read_sql(symbol, engine)        \n",
    "        loopback_period = df.iloc[-loopback:]\n",
    "        cumret = get_cumulative_return(loopback_period.Price)\n",
    "        if cumret[cumret.last_valid_index()] > entry:\n",
    "            return market_order(symbol=symbol, side='BUY', quantity=opts['qtty'])"
   ]
  },
  {
   "cell_type": "code",
   "execution_count": null,
   "id": "8d9571c4",
   "metadata": {},
   "outputs": [],
   "source": [
    "def close_position(symbol, order, loopback, opts):\n",
    "    while True:\n",
    "        df = pd.read_sql(symbol, engine)\n",
    "        sincebuy = df.loc[df.Time > pd.to_datetime(order['transactTime'], unit='ms')]\n",
    "        if len(sincebuy) > 1:\n",
    "            sincebuyret = get_cumulative_return(sincebuy.Price)\n",
    "            last_entry = sincebuyret[sincebuyret.last_valid_index()]\n",
    "            if last_entry > (opts['pct'] / 100) or last_entry < -(opts['pct'] / 100):\n",
    "                return market_order(symbol=symbol, side='SELL', quantity=opts['qtty'])\n",
    "            "
   ]
  },
  {
   "cell_type": "code",
   "execution_count": null,
   "id": "c27fdd29",
   "metadata": {},
   "outputs": [],
   "source": [
    "def live_trading_strategy(symbol, entry, loopback, opts):\n",
    "    order = open_position(symbol, entry, loopback, opts)\n",
    "    print(order)\n",
    "    order = close_position(symbol, order, loopback, )\n",
    "    print(order)"
   ]
  },
  {
   "cell_type": "code",
   "execution_count": null,
   "id": "e3f2e734",
   "metadata": {},
   "outputs": [],
   "source": [
    "opts = {'opts':0.15, 'pct':0.15}\n",
    "live_trading_strategy('SOLBUSD', 0.46, 60, opts)"
   ]
  },
  {
   "cell_type": "code",
   "execution_count": null,
   "id": "2f23b6c9",
   "metadata": {},
   "outputs": [],
   "source": []
  }
 ],
 "metadata": {
  "kernelspec": {
   "display_name": "Python 3 (ipykernel)",
   "language": "python",
   "name": "python3"
  },
  "language_info": {
   "codemirror_mode": {
    "name": "ipython",
    "version": 3
   },
   "file_extension": ".py",
   "mimetype": "text/x-python",
   "name": "python",
   "nbconvert_exporter": "python",
   "pygments_lexer": "ipython3",
   "version": "3.8.12"
  }
 },
 "nbformat": 4,
 "nbformat_minor": 5
}
