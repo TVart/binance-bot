{
 "cells": [
  {
   "cell_type": "code",
   "execution_count": 1,
   "id": "20597a7b",
   "metadata": {},
   "outputs": [],
   "source": [
    "import pandas as pd\n",
    "from decimal import *\n",
    "from binance.client import Client\n",
    "from binance import BinanceSocketManager"
   ]
  },
  {
   "cell_type": "code",
   "execution_count": 2,
   "id": "90d7926f",
   "metadata": {},
   "outputs": [],
   "source": [
    "run credentials.ipynb"
   ]
  },
  {
   "cell_type": "code",
   "execution_count": 3,
   "id": "f43bdf39",
   "metadata": {},
   "outputs": [],
   "source": [
    "client = Client(tradKey, tradSecret)"
   ]
  },
  {
   "cell_type": "code",
   "execution_count": 4,
   "id": "3dc25fc8",
   "metadata": {},
   "outputs": [],
   "source": [
    "run functions.ipynb"
   ]
  },
  {
   "cell_type": "code",
   "execution_count": 5,
   "id": "1b68e7c9",
   "metadata": {},
   "outputs": [],
   "source": [
    "run db_helper.ipynb"
   ]
  },
  {
   "cell_type": "code",
   "execution_count": 6,
   "id": "5ac5689f",
   "metadata": {},
   "outputs": [],
   "source": [
    "asset='SHIBBUSD'"
   ]
  },
  {
   "cell_type": "code",
   "execution_count": 7,
   "id": "95eae47f",
   "metadata": {},
   "outputs": [],
   "source": [
    "engine = create_db(asset)"
   ]
  },
  {
   "cell_type": "code",
   "execution_count": 8,
   "id": "aadc2721",
   "metadata": {},
   "outputs": [],
   "source": [
    "asset_df = pd.read_sql(asset, engine)"
   ]
  },
  {
   "cell_type": "code",
   "execution_count": 9,
   "id": "885586f0",
   "metadata": {},
   "outputs": [
    {
     "data": {
      "text/plain": [
       "<AxesSubplot:>"
      ]
     },
     "execution_count": 9,
     "metadata": {},
     "output_type": "execute_result"
    },
    {
     "data": {
      "image/png": "[encoded data removed]",
      "text/plain": [
       "<Figure size 432x288 with 1 Axes>"
      ]
     },
     "metadata": {
      "needs_background": "light"
     },
     "output_type": "display_data"
    }
   ],
   "source": [
    "asset_df.Price.plot()"
   ]
  },
  {
   "cell_type": "code",
   "execution_count": 10,
   "id": "65aa5b7b",
   "metadata": {},
   "outputs": [],
   "source": [
    "#Trendfollowing\n",
    "#If the crypto was rising by x % -> Buy\n",
    "#Exit when profit is > 0.15 % or loss is crossing - 0.15% "
   ]
  },
  {
   "cell_type": "code",
   "execution_count": 11,
   "id": "d8951284",
   "metadata": {},
   "outputs": [],
   "source": [
    "def open_position(symbol, opts):\n",
    "    while True:\n",
    "        df = pd.read_sql(symbol, engine)        \n",
    "        loopback_period = df.iloc[- opts['loopback_in_seconds'] :]\n",
    "        cumret = get_cumulative_return(loopback_period.Price)\n",
    "        if cumret[cumret.last_valid_index()] > (opts['buy_pct'] / 100):\n",
    "            return market_order(symbol=symbol, side='BUY', quantity=opts['qtty'])"
   ]
  },
  {
   "cell_type": "code",
   "execution_count": 12,
   "id": "8d9571c4",
   "metadata": {},
   "outputs": [],
   "source": [
    "def close_position(symbol, order, opts):\n",
    "    while True:\n",
    "        df = pd.read_sql(symbol, engine)\n",
    "        sincebuy = df.loc[df.Time > pd.to_datetime(order['transactTime'], unit='ms')]\n",
    "        if len(sincebuy) > 1:\n",
    "            sincebuyret = get_cumulative_return(sincebuy.Price)\n",
    "            last_entry = sincebuyret[sincebuyret.last_valid_index()]\n",
    "            if last_entry > (opts['sell_pct'] / 100) or last_entry < -(opts['sell_pct_down'] / 100):\n",
    "                return market_order(symbol=symbol, side='SELL', quantity=opts['qtty'])"
   ]
  },
  {
   "cell_type": "code",
   "execution_count": 13,
   "id": "c27fdd29",
   "metadata": {},
   "outputs": [],
   "source": [
    "def live_trading_strategy(symbol,opts):\n",
    "    buy_order = open_position(symbol,opts)\n",
    "    blst = buy_order['fills'][0]\n",
    "    blst['type'] ='Buy'\n",
    "    #blst['tp'] = float(blst['commission']) + float(blst['price'])\n",
    "    df = pd.DataFrame([blst.values()], columns=blst.keys())\n",
    "    print(df)\n",
    "\n",
    "    sell_order = close_position(symbol, buy_order, opts)    \n",
    "    slst = sell_order['fills'][0]\n",
    "    slst['type'] ='Sell'\n",
    "    #slst['tp'] = float(slst['commission']) + float(slst['price'])\n",
    "    df = pd.DataFrame([slst.values()], columns=slst.keys())\n",
    "    print(df)\n",
    "\n",
    "    #profit_n_lost = float(slst['tp']) - float(slst['tp'])\n",
    "    profit_n_lost_litteral = \"lost\"\n",
    "    if(slst['price'] > blst['price']):\n",
    "        profit_n_lost_litteral = \"profit\"\n",
    "\n",
    "    profit_n_lost =  Decimal(slst['price']) - Decimal(blst['price'])\n",
    "    print('Trading ends up with %s %s' % (profit_n_lost, profit_n_lost_litteral) )\n",
    "    return {\n",
    "        \"pnl\" : profit_n_lost_litteral,\n",
    "        \"earn\": profit_n_lost\n",
    "    }"
   ]
  },
  {
   "cell_type": "code",
   "execution_count": 14,
   "id": "e3f2e734",
   "metadata": {
    "scrolled": true
   },
   "outputs": [
    {
     "name": "stdout",
     "output_type": "stream",
     "text": [
      "        price        qty  commission commissionAsset   tradeId type\n",
      "0  0.00008031  300000.00  0.00003825             BNB  31814300  Buy\n",
      "        price        qty  commission commissionAsset   tradeId  type\n",
      "0  0.00008021  300000.00  0.00003974             BNB  31814708  Sell\n",
      "Trading ends up with -1.0E-7 lost\n",
      "        price        qty  commission commissionAsset   tradeId type\n",
      "0  0.00008019  300000.00  0.00003825             BNB  31814733  Buy\n",
      "        price        qty  commission commissionAsset   tradeId  type\n",
      "0  0.00008007  300000.00  0.00003966             BNB  31814809  Sell\n",
      "Trading ends up with -1.2E-7 lost\n",
      "        price        qty  commission commissionAsset   tradeId type\n",
      "0  0.00007945  300000.00  0.00003825             BNB  31816225  Buy\n",
      "        price        qty  commission commissionAsset   tradeId  type\n",
      "0  0.00007971  300000.00  0.00003951             BNB  31817059  Sell\n",
      "Trading ends up with 2.6E-7 profit\n",
      "        price        qty  commission commissionAsset   tradeId type\n",
      "0  0.00007966  300000.00  0.00003825             BNB  31817118  Buy\n",
      "        price        qty  commission commissionAsset   tradeId  type\n",
      "0  0.00007982  300000.00  0.00003963             BNB  31817545  Sell\n",
      "Trading ends up with 1.6E-7 profit\n",
      "        price        qty  commission commissionAsset   tradeId type\n",
      "0  0.00007994  275213.00  0.00003508             BNB  31817586  Buy\n",
      "        price        qty  commission commissionAsset   tradeId  type\n",
      "0  0.00008009  300000.00  0.00003976             BNB  31818110  Sell\n",
      "Trading ends up with 1.5E-7 profit\n",
      "        price        qty  commission commissionAsset   tradeId type\n",
      "0  0.00008010  300000.00  0.00003825             BNB  31818195  Buy\n",
      "        price        qty  commission commissionAsset   tradeId  type\n",
      "0  0.00008046  300000.00  0.00003995             BNB  31818931  Sell\n",
      "Trading ends up with 3.6E-7 profit\n",
      "        price        qty  commission commissionAsset   tradeId type\n",
      "0  0.00008037  300000.00  0.00003825             BNB  31819136  Buy\n",
      "        price        qty  commission commissionAsset   tradeId  type\n",
      "0  0.00008035  300000.00  0.00003987             BNB  31819460  Sell\n",
      "Trading ends up with -2E-8 lost\n",
      "        price        qty  commission commissionAsset   tradeId type\n",
      "0  0.00008033  300000.00  0.00003825             BNB  31819633  Buy\n",
      "        price        qty  commission commissionAsset   tradeId  type\n",
      "0  0.00008011  300000.00  0.00003975             BNB  31819727  Sell\n",
      "Trading ends up with -2.2E-7 lost\n",
      "        price        qty  commission commissionAsset   tradeId type\n",
      "0  0.00008016  300000.00  0.00003825             BNB  31819789  Buy\n",
      "        price        qty  commission commissionAsset   tradeId  type\n",
      "0  0.00007991  300000.00  0.00003966             BNB  31820057  Sell\n",
      "Trading ends up with -2.5E-7 lost\n",
      "        price        qty  commission commissionAsset   tradeId type\n",
      "0  0.00007995  300000.00  0.00003825             BNB  31820107  Buy\n",
      "        price        qty  commission commissionAsset   tradeId  type\n",
      "0  0.00007966  101844.00  0.00001341             BNB  31820339  Sell\n",
      "Trading ends up with -2.9E-7 lost\n",
      "        price        qty  commission commissionAsset   tradeId type\n",
      "0  0.00007987  300000.00  0.00003825             BNB  31820476  Buy\n",
      "        price       qty  commission commissionAsset   tradeId  type\n",
      "0  0.00007960  18158.00  0.00000238             BNB  31820597  Sell\n",
      "Trading ends up with -2.7E-7 lost\n",
      "        price        qty  commission commissionAsset   tradeId type\n",
      "0  0.00007955  300000.00  0.00003825             BNB  31821105  Buy\n",
      "        price        qty  commission commissionAsset   tradeId  type\n",
      "0  0.00007932  300000.00  0.00003938             BNB  31821272  Sell\n",
      "Trading ends up with -2.3E-7 lost\n",
      "        price        qty  commission commissionAsset   tradeId type\n",
      "0  0.00007951  300000.00  0.00003825             BNB  31821311  Buy\n",
      "        price        qty  commission commissionAsset   tradeId  type\n",
      "0  0.00007934  300000.00  0.00003939             BNB  31821439  Sell\n",
      "Trading ends up with -1.7E-7 lost\n",
      "        price        qty  commission commissionAsset   tradeId type\n",
      "0  0.00007950  300000.00  0.00003825             BNB  31821741  Buy\n",
      "        price        qty  commission commissionAsset   tradeId  type\n",
      "0  0.00007975  300000.00  0.00003960             BNB  31821931  Sell\n",
      "Trading ends up with 2.5E-7 profit\n",
      "        price        qty  commission commissionAsset   tradeId type\n",
      "0  0.00007977  300000.00  0.00003825             BNB  31821965  Buy\n",
      "        price        qty  commission commissionAsset   tradeId  type\n",
      "0  0.00007994  300000.00  0.00003972             BNB  31822362  Sell\n",
      "Trading ends up with 1.7E-7 profit\n",
      "        price        qty  commission commissionAsset   tradeId type\n",
      "0  0.00007988  300000.00  0.00003825             BNB  31822874  Buy\n",
      "        price        qty  commission commissionAsset   tradeId  type\n",
      "0  0.00007972  300000.00  0.00003960             BNB  31823088  Sell\n",
      "Trading ends up with -1.6E-7 lost\n",
      "        price        qty  commission commissionAsset   tradeId type\n",
      "0  0.00007972  300000.00  0.00003825             BNB  31823310  Buy\n",
      "        price        qty  commission commissionAsset   tradeId  type\n",
      "0  0.00007995  300000.00  0.00003972             BNB  31823634  Sell\n",
      "Trading ends up with 2.3E-7 profit\n",
      "        price        qty  commission commissionAsset   tradeId type\n",
      "0  0.00008006  300000.00  0.00003825             BNB  31823675  Buy\n",
      "        price        qty  commission commissionAsset   tradeId  type\n",
      "0  0.00008020  274315.00  0.00003643             BNB  31824365  Sell\n",
      "Trading ends up with 1.4E-7 profit\n",
      "        price        qty  commission commissionAsset   tradeId type\n",
      "0  0.00008058  300000.00  0.00003825             BNB  31824535  Buy\n",
      "        price        qty  commission commissionAsset   tradeId  type\n",
      "0  0.00008029  300000.00  0.00003990             BNB  31825184  Sell\n",
      "Trading ends up with -2.9E-7 lost\n",
      "        price        qty  commission commissionAsset   tradeId type\n",
      "0  0.00008037  300000.00  0.00003825             BNB  31825233  Buy\n",
      "        price        qty  commission commissionAsset   tradeId  type\n",
      "0  0.00008038  300000.00  0.00003994             BNB  31825504  Sell\n",
      "Trading ends up with 1E-8 profit\n",
      "        price        qty  commission commissionAsset   tradeId type\n",
      "0  0.00008041  300000.00  0.00003825             BNB  31825526  Buy\n",
      "        price        qty  commission commissionAsset   tradeId  type\n",
      "0  0.00008019  274349.00  0.00003645             BNB  31825774  Sell\n",
      "Trading ends up with -2.2E-7 lost\n",
      "        price        qty  commission commissionAsset   tradeId type\n",
      "0  0.00007977  300000.00  0.00003825             BNB  31826358  Buy\n",
      "        price        qty  commission commissionAsset   tradeId  type\n",
      "0  0.00007950  300000.00  0.00003951             BNB  31826568  Sell\n",
      "Trading ends up with -2.7E-7 lost\n",
      "        price        qty  commission commissionAsset   tradeId type\n",
      "0  0.00007968  300000.00  0.00003825             BNB  31826744  Buy\n",
      "        price        qty  commission commissionAsset   tradeId  type\n",
      "0  0.00007953  300000.00  0.00003953             BNB  31826769  Sell\n",
      "Trading ends up with -1.5E-7 lost\n",
      "        price        qty  commission commissionAsset   tradeId type\n",
      "0  0.00007982  251873.00  0.00003210             BNB  31827123  Buy\n",
      "        price        qty  commission commissionAsset   tradeId  type\n",
      "0  0.00007959  300000.00  0.00003956             BNB  31827241  Sell\n",
      "Trading ends up with -2.3E-7 lost\n",
      "        price        qty  commission commissionAsset   tradeId type\n",
      "0  0.00007934  300000.00  0.00003825             BNB  31827650  Buy\n",
      "        price        qty  commission commissionAsset   tradeId  type\n",
      "0  0.00007943  300000.00  0.00003953             BNB  31827776  Sell\n",
      "Trading ends up with 9E-8 profit\n",
      "        price        qty  commission commissionAsset   tradeId type\n",
      "0  0.00007908  300000.00  0.00003825             BNB  31828984  Buy\n",
      "        price        qty  commission commissionAsset   tradeId  type\n",
      "0  0.00007891  300000.00  0.00003927             BNB  31829181  Sell\n",
      "Trading ends up with -1.7E-7 lost\n",
      "        price        qty  commission commissionAsset   tradeId type\n",
      "0  0.00007892  300000.00  0.00003825             BNB  31829207  Buy\n",
      "        price        qty  commission commissionAsset   tradeId  type\n",
      "0  0.00007908  300000.00  0.00003936             BNB  31829500  Sell\n",
      "Trading ends up with 1.6E-7 profit\n"
     ]
    },
    {
     "name": "stdout",
     "output_type": "stream",
     "text": [
      "        price        qty  commission commissionAsset   tradeId type\n",
      "0  0.00007924  300000.00  0.00003825             BNB  31829531  Buy\n",
      "        price        qty  commission commissionAsset   tradeId  type\n",
      "0  0.00007912  300000.00  0.00003940             BNB  31829713  Sell\n",
      "Trading ends up with -1.2E-7 lost\n",
      "        price        qty  commission commissionAsset   tradeId type\n",
      "0  0.00007926  300000.00  0.00003825             BNB  31829736  Buy\n",
      "        price        qty  commission commissionAsset   tradeId  type\n",
      "0  0.00007908  300000.00  0.00003939             BNB  31829965  Sell\n",
      "Trading ends up with -1.8E-7 lost\n",
      "        price        qty  commission commissionAsset   tradeId type\n",
      "0  0.00007893  255013.00  0.00003251             BNB  31830519  Buy\n",
      "        price        qty  commission commissionAsset   tradeId  type\n",
      "0  0.00007879  300000.00  0.00003924             BNB  31830736  Sell\n",
      "Trading ends up with -1.4E-7 lost\n",
      "        price        qty  commission commissionAsset   tradeId type\n",
      "0  0.00007885  300000.00  0.00003825             BNB  31830996  Buy\n",
      "        price        qty  commission commissionAsset   tradeId  type\n",
      "0  0.00007885  300000.00  0.00003930             BNB  31831025  Sell\n",
      "Trading ends up with 0E-8 lost\n",
      "        price       qty  commission commissionAsset   tradeId type\n",
      "0  0.00007902  19690.00  0.00000250             BNB  31831072  Buy\n",
      "        price        qty  commission commissionAsset   tradeId  type\n",
      "0  0.00007901  300000.00  0.00003937             BNB  31831234  Sell\n",
      "Trading ends up with -1E-8 lost\n",
      "Total earn after trade -1e-08\n"
     ]
    }
   ],
   "source": [
    "opts = {\n",
    "    'loopback_in_seconds': 60, \n",
    "    'qtty':300000,\n",
    "    'buy_pct':0.10, \n",
    "    'sell_pct':0.20,\n",
    "    'sell_pct_down':0.15\n",
    "}\n",
    "while True:\n",
    "    total = 0\n",
    "    pnl_earn = live_trading_strategy(asset, opts)\n",
    "    pnl = pnl_earn['pnl']\n",
    "    earn = pnl_earn['earn']\n",
    "    if pnl == \"lost\":\n",
    "        opts['sell_pct_down'] = opts['sell_pct_down']-0.01\n",
    "        opts['sell_pct'] = opts['sell_pct']-0.01\n",
    "    else:\n",
    "        opts['sell_pct'] = opts['sell_pct']+0.01\n",
    "        opts['sell_pct_down'] = opts['sell_pct_down']+0.01\n",
    "\n",
    "    total = total + earn;\n",
    "    if opts['sell_pct'] < 0.10 or opts['sell_pct_down'] < 0.05:\n",
    "        print(\"Total earn after trade %s\" % float(earn))\n",
    "        break"
   ]
  },
  {
   "cell_type": "code",
   "execution_count": null,
   "id": "2f23b6c9",
   "metadata": {},
   "outputs": [],
   "source": []
  }
 ],
 "metadata": {
  "kernelspec": {
   "display_name": "Python 3 (ipykernel)",
   "language": "python",
   "name": "python3"
  },
  "language_info": {
   "codemirror_mode": {
    "name": "ipython",
    "version": 3
   },
   "file_extension": ".py",
   "mimetype": "text/x-python",
   "name": "python",
   "nbconvert_exporter": "python",
   "pygments_lexer": "ipython3",
   "version": "3.8.12"
  }
 },
 "nbformat": 4,
 "nbformat_minor": 5
}
