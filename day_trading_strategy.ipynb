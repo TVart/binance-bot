{
 "cells": [
  {
   "cell_type": "code",
   "execution_count": 31,
   "id": "92fd12d3",
   "metadata": {},
   "outputs": [
    {
     "name": "stdout",
     "output_type": "stream",
     "text": [
      "Requirement already satisfied: python-binance in c:\\users\\philo\\anaconda3\\envs\\crypto-bot\\lib\\site-packages (1.0.15)\n",
      "Requirement already satisfied: ujson in c:\\users\\philo\\anaconda3\\envs\\crypto-bot\\lib\\site-packages (from python-binance) (4.2.0)\n",
      "Requirement already satisfied: websockets==9.1 in c:\\users\\philo\\anaconda3\\envs\\crypto-bot\\lib\\site-packages (from python-binance) (9.1)\n",
      "Requirement already satisfied: dateparser in c:\\users\\philo\\anaconda3\\envs\\crypto-bot\\lib\\site-packages (from python-binance) (1.1.0)\n",
      "Requirement already satisfied: requests in c:\\users\\philo\\anaconda3\\envs\\crypto-bot\\lib\\site-packages (from python-binance) (2.26.0)\n",
      "Requirement already satisfied: six in c:\\users\\philo\\anaconda3\\envs\\crypto-bot\\lib\\site-packages (from python-binance) (1.16.0)\n",
      "Requirement already satisfied: aiohttp in c:\\users\\philo\\anaconda3\\envs\\crypto-bot\\lib\\site-packages (from python-binance) (3.7.4.post0)\n",
      "Requirement already satisfied: multidict<7.0,>=4.5 in c:\\users\\philo\\anaconda3\\envs\\crypto-bot\\lib\\site-packages (from aiohttp->python-binance) (5.2.0)\n",
      "Requirement already satisfied: async-timeout<4.0,>=3.0 in c:\\users\\philo\\anaconda3\\envs\\crypto-bot\\lib\\site-packages (from aiohttp->python-binance) (3.0.1)\n",
      "Requirement already satisfied: typing-extensions>=3.6.5 in c:\\users\\philo\\anaconda3\\envs\\crypto-bot\\lib\\site-packages (from aiohttp->python-binance) (3.10.0.2)\n",
      "Requirement already satisfied: yarl<2.0,>=1.0 in c:\\users\\philo\\anaconda3\\envs\\crypto-bot\\lib\\site-packages (from aiohttp->python-binance) (1.7.0)\n",
      "Requirement already satisfied: attrs>=17.3.0 in c:\\users\\philo\\anaconda3\\envs\\crypto-bot\\lib\\site-packages (from aiohttp->python-binance) (21.2.0)\n",
      "Requirement already satisfied: chardet<5.0,>=2.0 in c:\\users\\philo\\anaconda3\\envs\\crypto-bot\\lib\\site-packages (from aiohttp->python-binance) (4.0.0)\n",
      "Requirement already satisfied: idna>=2.0 in c:\\users\\philo\\anaconda3\\envs\\crypto-bot\\lib\\site-packages (from yarl<2.0,>=1.0->aiohttp->python-binance) (3.3)\n",
      "Requirement already satisfied: regex!=2019.02.19,!=2021.8.27 in c:\\users\\philo\\anaconda3\\envs\\crypto-bot\\lib\\site-packages (from dateparser->python-binance) (2021.10.23)\n",
      "Requirement already satisfied: pytz in c:\\users\\philo\\anaconda3\\envs\\crypto-bot\\lib\\site-packages (from dateparser->python-binance) (2021.3)\n",
      "Requirement already satisfied: python-dateutil in c:\\users\\philo\\anaconda3\\envs\\crypto-bot\\lib\\site-packages (from dateparser->python-binance) (2.8.2)\n",
      "Requirement already satisfied: tzlocal in c:\\users\\philo\\anaconda3\\envs\\crypto-bot\\lib\\site-packages (from dateparser->python-binance) (4.0.1)\n",
      "Requirement already satisfied: certifi>=2017.4.17 in c:\\users\\philo\\anaconda3\\envs\\crypto-bot\\lib\\site-packages (from requests->python-binance) (2021.10.8)\n",
      "Requirement already satisfied: urllib3<1.27,>=1.21.1 in c:\\users\\philo\\anaconda3\\envs\\crypto-bot\\lib\\site-packages (from requests->python-binance) (1.26.7)\n",
      "Requirement already satisfied: charset-normalizer~=2.0.0 in c:\\users\\philo\\anaconda3\\envs\\crypto-bot\\lib\\site-packages (from requests->python-binance) (2.0.7)\n",
      "Requirement already satisfied: backports.zoneinfo in c:\\users\\philo\\anaconda3\\envs\\crypto-bot\\lib\\site-packages (from tzlocal->dateparser->python-binance) (0.2.1)\n",
      "Requirement already satisfied: pytz-deprecation-shim in c:\\users\\philo\\anaconda3\\envs\\crypto-bot\\lib\\site-packages (from tzlocal->dateparser->python-binance) (0.1.0.post0)\n",
      "Requirement already satisfied: tzdata in c:\\users\\philo\\anaconda3\\envs\\crypto-bot\\lib\\site-packages (from tzlocal->dateparser->python-binance) (2021.4)\n",
      "Requirement already satisfied: pandas in c:\\users\\philo\\anaconda3\\envs\\crypto-bot\\lib\\site-packages (1.3.4)\n",
      "Requirement already satisfied: python-dateutil>=2.7.3 in c:\\users\\philo\\anaconda3\\envs\\crypto-bot\\lib\\site-packages (from pandas) (2.8.2)\n",
      "Requirement already satisfied: pytz>=2017.3 in c:\\users\\philo\\anaconda3\\envs\\crypto-bot\\lib\\site-packages (from pandas) (2021.3)\n",
      "Requirement already satisfied: numpy>=1.17.3 in c:\\users\\philo\\anaconda3\\envs\\crypto-bot\\lib\\site-packages (from pandas) (1.21.3)\n",
      "Requirement already satisfied: six>=1.5 in c:\\users\\philo\\anaconda3\\envs\\crypto-bot\\lib\\site-packages (from python-dateutil>=2.7.3->pandas) (1.16.0)\n",
      "Requirement already satisfied: matplotlib in c:\\users\\philo\\anaconda3\\envs\\crypto-bot\\lib\\site-packages (3.4.3)\n",
      "Requirement already satisfied: cycler>=0.10 in c:\\users\\philo\\anaconda3\\envs\\crypto-bot\\lib\\site-packages (from matplotlib) (0.10.0)\n",
      "Requirement already satisfied: python-dateutil>=2.7 in c:\\users\\philo\\anaconda3\\envs\\crypto-bot\\lib\\site-packages (from matplotlib) (2.8.2)\n",
      "Requirement already satisfied: pyparsing>=2.2.1 in c:\\users\\philo\\anaconda3\\envs\\crypto-bot\\lib\\site-packages (from matplotlib) (2.4.7)\n",
      "Requirement already satisfied: kiwisolver>=1.0.1 in c:\\users\\philo\\anaconda3\\envs\\crypto-bot\\lib\\site-packages (from matplotlib) (1.3.2)\n",
      "Requirement already satisfied: pillow>=6.2.0 in c:\\users\\philo\\anaconda3\\envs\\crypto-bot\\lib\\site-packages (from matplotlib) (8.4.0)\n",
      "Requirement already satisfied: numpy>=1.16 in c:\\users\\philo\\anaconda3\\envs\\crypto-bot\\lib\\site-packages (from matplotlib) (1.21.3)\n",
      "Requirement already satisfied: six in c:\\users\\philo\\anaconda3\\envs\\crypto-bot\\lib\\site-packages (from cycler>=0.10->matplotlib) (1.16.0)\n"
     ]
    }
   ],
   "source": [
    "run requirements.ipynb"
   ]
  },
  {
   "cell_type": "raw",
   "id": "e165caf8",
   "metadata": {},
   "source": [
    "from binance import Client\n",
    "import pandas as pd"
   ]
  },
  {
   "cell_type": "code",
   "execution_count": 11,
   "id": "dbca8240",
   "metadata": {},
   "outputs": [],
   "source": [
    "run credentials.ipynb"
   ]
  },
  {
   "cell_type": "code",
   "execution_count": 12,
   "id": "099e8c49",
   "metadata": {},
   "outputs": [],
   "source": [
    "client = Client(key, secret)"
   ]
  },
  {
   "cell_type": "code",
   "execution_count": 118,
   "id": "5015a272",
   "metadata": {},
   "outputs": [
    {
     "data": {
      "text/html": [
       "<div>\n",
       "<style scoped>\n",
       "    .dataframe tbody tr th:only-of-type {\n",
       "        vertical-align: middle;\n",
       "    }\n",
       "\n",
       "    .dataframe tbody tr th {\n",
       "        vertical-align: top;\n",
       "    }\n",
       "\n",
       "    .dataframe thead th {\n",
       "        text-align: right;\n",
       "    }\n",
       "</style>\n",
       "<table border=\"1\" class=\"dataframe\">\n",
       "  <thead>\n",
       "    <tr style=\"text-align: right;\">\n",
       "      <th></th>\n",
       "      <th>asset</th>\n",
       "      <th>free</th>\n",
       "      <th>locked</th>\n",
       "    </tr>\n",
       "  </thead>\n",
       "  <tbody>\n",
       "    <tr>\n",
       "      <th>0</th>\n",
       "      <td>BNB</td>\n",
       "      <td>0.08553683</td>\n",
       "      <td>0.00000000</td>\n",
       "    </tr>\n",
       "    <tr>\n",
       "      <th>1</th>\n",
       "      <td>XRP</td>\n",
       "      <td>25.00000000</td>\n",
       "      <td>0.00000000</td>\n",
       "    </tr>\n",
       "    <tr>\n",
       "      <th>2</th>\n",
       "      <td>VET</td>\n",
       "      <td>454.83510000</td>\n",
       "      <td>0.00000000</td>\n",
       "    </tr>\n",
       "    <tr>\n",
       "      <th>3</th>\n",
       "      <td>ONE</td>\n",
       "      <td>235.00000000</td>\n",
       "      <td>0.00000000</td>\n",
       "    </tr>\n",
       "    <tr>\n",
       "      <th>4</th>\n",
       "      <td>FTM</td>\n",
       "      <td>10.00000000</td>\n",
       "      <td>0.00000000</td>\n",
       "    </tr>\n",
       "    <tr>\n",
       "      <th>5</th>\n",
       "      <td>SOL</td>\n",
       "      <td>0.46100000</td>\n",
       "      <td>0.00000000</td>\n",
       "    </tr>\n",
       "    <tr>\n",
       "      <th>6</th>\n",
       "      <td>SXP</td>\n",
       "      <td>11.70000000</td>\n",
       "      <td>0.00000000</td>\n",
       "    </tr>\n",
       "    <tr>\n",
       "      <th>7</th>\n",
       "      <td>DOT</td>\n",
       "      <td>1.78483830</td>\n",
       "      <td>0.00000000</td>\n",
       "    </tr>\n",
       "    <tr>\n",
       "      <th>8</th>\n",
       "      <td>LUNA</td>\n",
       "      <td>0.57000000</td>\n",
       "      <td>0.00000000</td>\n",
       "    </tr>\n",
       "    <tr>\n",
       "      <th>9</th>\n",
       "      <td>EGLD</td>\n",
       "      <td>0.28147790</td>\n",
       "      <td>0.00000000</td>\n",
       "    </tr>\n",
       "    <tr>\n",
       "      <th>10</th>\n",
       "      <td>KSM</td>\n",
       "      <td>0.16100000</td>\n",
       "      <td>0.00000000</td>\n",
       "    </tr>\n",
       "    <tr>\n",
       "      <th>11</th>\n",
       "      <td>BAKE</td>\n",
       "      <td>13.20000000</td>\n",
       "      <td>0.00000000</td>\n",
       "    </tr>\n",
       "    <tr>\n",
       "      <th>12</th>\n",
       "      <td>CAKE</td>\n",
       "      <td>1.41000000</td>\n",
       "      <td>0.00000000</td>\n",
       "    </tr>\n",
       "    <tr>\n",
       "      <th>13</th>\n",
       "      <td>BTCST</td>\n",
       "      <td>1.33000000</td>\n",
       "      <td>0.00000000</td>\n",
       "    </tr>\n",
       "  </tbody>\n",
       "</table>\n",
       "</div>"
      ],
      "text/plain": [
       "    asset          free      locked\n",
       "0     BNB    0.08553683  0.00000000\n",
       "1     XRP   25.00000000  0.00000000\n",
       "2     VET  454.83510000  0.00000000\n",
       "3     ONE  235.00000000  0.00000000\n",
       "4     FTM   10.00000000  0.00000000\n",
       "5     SOL    0.46100000  0.00000000\n",
       "6     SXP   11.70000000  0.00000000\n",
       "7     DOT    1.78483830  0.00000000\n",
       "8    LUNA    0.57000000  0.00000000\n",
       "9    EGLD    0.28147790  0.00000000\n",
       "10    KSM    0.16100000  0.00000000\n",
       "11   BAKE   13.20000000  0.00000000\n",
       "12   CAKE    1.41000000  0.00000000\n",
       "13  BTCST    1.33000000  0.00000000"
      ]
     },
     "execution_count": 118,
     "metadata": {},
     "output_type": "execute_result"
    }
   ],
   "source": [
    "account = client.get_account()\n",
    "balances = [d for d in account['balances'] if float(d['free']) > 0]\n",
    "df = pd.DataFrame(balances)\n",
    "df"
   ]
  },
  {
   "cell_type": "code",
   "execution_count": 14,
   "id": "b2ad3aee",
   "metadata": {},
   "outputs": [],
   "source": [
    "#datastream via websocket"
   ]
  },
  {
   "cell_type": "code",
   "execution_count": 144,
   "id": "f5157bb5",
   "metadata": {},
   "outputs": [],
   "source": [
    "run functions.ipynb"
   ]
  },
  {
   "cell_type": "code",
   "execution_count": 42,
   "id": "8b0d7d0f",
   "metadata": {},
   "outputs": [],
   "source": [
    "#Buy if asset fell by more then 0.2% within the lastr 30 min\n",
    "#Sell if asset rises by more then 0.15% or falls further by 0.15%"
   ]
  },
  {
   "cell_type": "code",
   "execution_count": 145,
   "id": "298868d9",
   "metadata": {},
   "outputs": [],
   "source": [
    "def close_position(symbol, sellOpt):\n",
    "    while True:\n",
    "        df = get_minute_data(symbol=symbol, loopback=sellOpt['loopback'])\n",
    "        sincebuy = df.loc[df.index > pd.to_datetime(order['transactTime'], unit='ms')]\n",
    "        if len(sincebuy) > 0:\n",
    "            sincebuyret = get_cumulative_return(sincebuy.Open)\n",
    "            if sincebuyret[-1] > (sellOpt['pct'] / 100) or sincebuyret[-1] < -(sellOpt['pct'] / 100):\n",
    "                order = market_order(symbol=symbol, side='SELL', quantity=sellOpt['qtty'])\n",
    "                print(order)\n",
    "                break"
   ]
  },
  {
   "cell_type": "code",
   "execution_count": 146,
   "id": "2a1ca7f4",
   "metadata": {},
   "outputs": [],
   "source": [
    "def time_trade_strategy(symbol, buyOpt, sellOpt):\n",
    "    df = get_minute_data(symbol=symbol, loopback=buyOpt['loopback'])\n",
    "    # How asset has performed in the last 30 min\n",
    "    cumulret = get_cumulative_return(df.Open)\n",
    "    if cumulret[-1] < -(buyOpt['pct']/100):\n",
    "        order = market_order(symbol=symbol, side='BUY', quantity=buyOpt['qtty'])\n",
    "        print(order)\n",
    "        close_position(symbol, sellOpt)\n",
    "    else:\n",
    "        print('No trade has been executed')\n",
    "        df.Open.plot()\n",
    "        print(cumulret[-1])\n",
    "        print(buyOpt['pct']/100)"
   ]
  },
  {
   "cell_type": "code",
   "execution_count": 147,
   "id": "15a8081a",
   "metadata": {},
   "outputs": [
    {
     "name": "stdout",
     "output_type": "stream",
     "text": [
      "No trade has been executed\n",
      "0.005212286827589452\n",
      "0.002\n"
     ]
    },
    {
     "data": {
      "image/png": "[encoded data removed]",
      "text/plain": [
       "<Figure size 432x288 with 1 Axes>"
      ]
     },
     "metadata": {
      "needs_background": "light"
     },
     "output_type": "display_data"
    }
   ],
   "source": [
    "buyOpt = {'pct':0.2, 'qtty':5.5, 'loopback':'10'}\n",
    "sellOpt = {'pct':0.15, 'qtty':5.5, 'loopback':'30'}\n",
    "time_trade_strategy('SOLBUSD', buyOpt, sellOpt)"
   ]
  },
  {
   "cell_type": "code",
   "execution_count": null,
   "id": "631138e6",
   "metadata": {},
   "outputs": [],
   "source": []
  }
 ],
 "metadata": {
  "kernelspec": {
   "display_name": "Python 3 (ipykernel)",
   "language": "python",
   "name": "python3"
  },
  "language_info": {
   "codemirror_mode": {
    "name": "ipython",
    "version": 3
   },
   "file_extension": ".py",
   "mimetype": "text/x-python",
   "name": "python",
   "nbconvert_exporter": "python",
   "pygments_lexer": "ipython3",
   "version": "3.8.12"
  }
 },
 "nbformat": 4,
 "nbformat_minor": 5
}
